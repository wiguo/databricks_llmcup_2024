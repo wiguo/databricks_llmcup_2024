{
 "cells": [
  {
   "cell_type": "code",
   "execution_count": 0,
   "metadata": {
    "application/vnd.databricks.v1+cell": {
     "cellMetadata": {
      "byteLimit": 2048000,
      "rowLimit": 10000
     },
     "inputWidgets": {},
     "nuid": "a907d606-6f78-4230-b190-4a1a1ed2b59e",
     "showTitle": false,
     "title": ""
    }
   },
   "outputs": [
    {
     "output_type": "stream",
     "name": "stdout",
     "output_type": "stream",
     "text": [
      "\u001B[43mNote: you may need to restart the kernel using %restart_python or dbutils.library.restartPython() to use updated packages.\u001B[0m\n"
     ]
    }
   ],
   "source": [
    "%pip install -qU langchain langchain-community langchain-core sqlalchemy langchain_experimental matplotlib mlflow langgraph fsspec huggingface_hub youtube-search openai langchain-databricks databricks-sdk langchain_openai"
   ]
  },
  {
   "cell_type": "code",
   "execution_count": 0,
   "metadata": {
    "application/vnd.databricks.v1+cell": {
     "cellMetadata": {
      "byteLimit": 2048000,
      "rowLimit": 10000
     },
     "inputWidgets": {},
     "nuid": "b35c05b0-14f5-40c3-88bb-547e2312707d",
     "showTitle": false,
     "title": ""
    }
   },
   "outputs": [],
   "source": [
    "dbutils.library.restartPython() "
   ]
  },
  {
   "cell_type": "code",
   "execution_count": 0,
   "metadata": {
    "application/vnd.databricks.v1+cell": {
     "cellMetadata": {
      "byteLimit": 2048000,
      "rowLimit": 10000
     },
     "inputWidgets": {},
     "nuid": "3bd034c8-71bd-4454-a0f7-7a3b78f158c8",
     "showTitle": false,
     "title": ""
    }
   },
   "outputs": [],
   "source": [
    "%run ./graph"
   ]
  },
  {
   "cell_type": "code",
   "execution_count": 0,
   "metadata": {
    "application/vnd.databricks.v1+cell": {
     "cellMetadata": {
      "byteLimit": 2048000,
      "rowLimit": 10000
     },
     "inputWidgets": {},
     "nuid": "5babfae1-5e2d-4504-8496-a378f23483c8",
     "showTitle": false,
     "title": ""
    }
   },
   "outputs": [],
   "source": [
    "# load graph \n",
    "new_app = load_graph()"
   ]
  },
  {
   "cell_type": "code",
   "execution_count": 0,
   "metadata": {
    "application/vnd.databricks.v1+cell": {
     "cellMetadata": {
      "byteLimit": 2048000,
      "rowLimit": 10000
     },
     "inputWidgets": {},
     "nuid": "4523ff0a-69ab-4249-96e1-817488e12bac",
     "showTitle": false,
     "title": ""
    }
   },
   "outputs": [
    {
     "output_type": "stream",
     "name": "stdout",
     "output_type": "stream",
     "text": [
      "**Feedback for Ali to Improve Greeting and Closing Skills**\n\n**Summary of Key Points:**\n\n* Strengths: Excellent problem-solving skills, commendable product knowledge, and ability to provide detailed explanations.\n* Weaknesses: Needs improvement in making greetings more personal and ensuring thorough closings.\n\n**Actionable Feedback:**\n\n1. **Personalize Greetings**: Focus on making greetings more personal by addressing customers by name, acknowledging their concerns, and showing empathy.\n2. **Effective Closing Techniques**: Ensure that closings are thorough by summarizing the solution, confirming the customer's issue is resolved, and providing additional support or resources as needed.\n3. **Practice Role-Playing**: Regularly practice greetings and closings through role-playing exercises to improve skills and build confidence.\n4. **Self-Assessment and Reflection**: Listen to recordings of interactions (where possible) to self-assess greeting and closing skills, identify areas for improvement, and develop a plan to address them.\n5. **Seek Feedback and Coaching**: Regularly seek feedback from supervisors, peers, or mentors to identify areas for improvement and receive coaching on how to enhance greeting and closing skills.\n\n**Training Recommendations:**\n\n1. **Workshop on Personalized Greetings**: Attend a workshop or training session focused on crafting personalized greetings.\n2. **Effective Closing Techniques Training**: Participate in training on effective closing techniques, including best practices and scenario-based exercises.\n3. **Regular Role-Playing Sessions**: Engage in regular role-playing sessions to practice greetings and closings, receiving feedback and coaching to improve skills.\n4. **Mentorship Program**: Consider participating in a mentorship program to receive guidance and support from an experienced customer support agent.\n\n**Progress Monitoring:**\n\n* Regularly review progress with supervisors or mentors to assess improvement in greeting and closing skills.\n* Adjust training plan as necessary to address areas that require additional attention.\n\nBy following these recommendations and focusing on improving greeting and closing skills, Ali can enhance the overall customer experience and become a more effective customer support agent.\n"
     ]
    }
   ],
   "source": [
    "# Define the input with a user query\n",
    "from langchain.schema import HumanMessage\n",
    "\n",
    "input = {\n",
    "    \"messages\": [HumanMessage(content=\"provide feedbacks for Ali to improve greeting and closing skills\")]\n",
    "}\n",
    "\n",
    "# Run the compiled state graph with the iinput\n",
    "result = new_app.invoke(input)\n",
    "\n",
    "# Extract the messages from the result\n",
    "response_message = result[\"messages\"][-1].content\n",
    "print(response_message)"
   ]
  },
  {
   "cell_type": "code",
   "execution_count": 0,
   "metadata": {
    "application/vnd.databricks.v1+cell": {
     "cellMetadata": {
      "byteLimit": 2048000,
      "rowLimit": 10000
     },
     "inputWidgets": {},
     "nuid": "cc538121-d8f4-47dc-abf8-9becb2228931",
     "showTitle": false,
     "title": ""
    }
   },
   "outputs": [
    {
     "output_type": "stream",
     "name": "stdout",
     "output_type": "stream",
     "text": [
      "Here are the YouTube video results for \"customer service greeting\":\n\n1. **Video 1:** \"Customer Service Greeting\" by [Channel Name]\n\t* Link: https://www.youtube.com/watch?v=oe6OXbzPj-I\n\t* Description: Learn how to greet customers in a way that sets the tone for a positive experience. This video provides tips and examples of effective customer service greetings.\n2. **Video 2:** \"The Ultimate Customer Service Greeting\" by [Channel Name]\n\t* Link: https://www.youtube.com/watch?v=LRJXMKZ4wOw\n\t* Description: Discover the secrets to delivering a customer service greeting that wows your customers. This video shares best practices and examples of greetings that can help you build trust and loyalty with your customers.\n\nPlease note that the channel names and descriptions are not provided in the response, so I had to fill in some placeholder text. If you want to get the actual channel names and descriptions, you would need to make another API call to retrieve that information.\n"
     ]
    },
    {
     "output_type": "stream",
     "name": "stderr",
     "output_type": "stream",
     "text": [
      "/home/spark-5f4638e3-5f7a-4bea-964a-66/.ipykernel/47329/command-2586615384031825-4153226305:9: LangChainDeprecationWarning: The class `ChatDatabricks` was deprecated in LangChain 0.3.3 and will be removed in 1.0. An updated version of the class exists in the :class:`~langchain-databricks package and should be used instead. To use it run `pip install -U :class:`~langchain-databricks` and import as `from :class:`~langchain_databricks import ChatDatabricks``.\n  chat_model = ChatDatabricks(endpoint=\"databricks-meta-llama-3-1-405b-instruct\", max_tokens=4000)\n/home/spark-5f4638e3-5f7a-4bea-964a-66/.ipykernel/47329/command-2586615384031825-4153226305:73: LangChainDeprecationWarning: The class `LLMChain` was deprecated in LangChain 0.1.17 and will be removed in 1.0. Use :meth:`~RunnableSequence, e.g., `prompt | llm`` instead.\n  llm_chain = LLMChain(llm=llm, prompt=feedback_prompt, verbose=False)\n"
     ]
    }
   ],
   "source": [
    "message = \"get a youtube video on customer service greeting\"\n",
    "input_2 = {\"messages\": [{\"role\": \"user\", \"content\": message}]}\n",
    "\n",
    "result_2 = new_app.invoke(input_2)\n",
    "response_message_2 = result_2[\"messages\"][-1].content \n",
    "print(response_message_2)"
   ]
  }
 ],
 "metadata": {
  "application/vnd.databricks.v1+notebook": {
   "dashboards": [],
   "environmentMetadata": {
    "base_environment": "",
    "client": "1"
   },
   "language": "python",
   "notebookMetadata": {
    "mostRecentlyExecutedCommandWithImplicitDF": {
     "commandId": 2586615384032080,
     "dataframes": [
      "_sqldf"
     ]
    },
    "pythonIndentUnit": 4
   },
   "notebookName": "query_graph_notebook",
   "widgets": {}
  }
 },
 "nbformat": 4,
 "nbformat_minor": 0
}
