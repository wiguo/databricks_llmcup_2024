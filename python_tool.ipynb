{
 "cells": [
  {
   "cell_type": "code",
   "execution_count": 0,
   "metadata": {
    "application/vnd.databricks.v1+cell": {
     "cellMetadata": {
      "byteLimit": 2048000,
      "rowLimit": 10000
     },
     "inputWidgets": {},
     "nuid": "1f1d9ef1-5e30-4d2c-82a8-8b1a67aa04b5",
     "showTitle": false,
     "title": ""
    }
   },
   "outputs": [
    {
     "output_type": "stream",
     "name": "stdout",
     "output_type": "stream",
     "text": [
      "\u001B[43mNote: you may need to restart the kernel using %restart_python or dbutils.library.restartPython() to use updated packages.\u001B[0m\n"
     ]
    }
   ],
   "source": [
    "#pip install langchain langchain_experimental -qU"
   ]
  },
  {
   "cell_type": "code",
   "execution_count": 0,
   "metadata": {
    "application/vnd.databricks.v1+cell": {
     "cellMetadata": {
      "byteLimit": 2048000,
      "rowLimit": 10000
     },
     "inputWidgets": {},
     "nuid": "98074c4a-057b-4a27-9722-b550ee026dba",
     "showTitle": false,
     "title": ""
    }
   },
   "outputs": [],
   "source": [
    "#dbutils.library.restartPython()"
   ]
  },
  {
   "cell_type": "code",
   "execution_count": 0,
   "metadata": {
    "application/vnd.databricks.v1+cell": {
     "cellMetadata": {
      "byteLimit": 2048000,
      "rowLimit": 10000
     },
     "inputWidgets": {},
     "nuid": "13d7a05d-3346-4186-adfb-4318470b5fca",
     "showTitle": false,
     "title": ""
    }
   },
   "outputs": [],
   "source": [
    "from langchain_core.tools import Tool, BaseTool\n",
    "from langchain_experimental.utilities import PythonREPL\n",
    "from typing import Optional, Any\n",
    "from langchain_core.callbacks import (\n",
    "    AsyncCallbackManagerForToolRun,\n",
    "    CallbackManagerForToolRun,\n",
    ")\n",
    "from langchain.schema.runnable.config import RunnableConfig\n",
    "import matplotlib.pyplot as plt"
   ]
  },
  {
   "cell_type": "code",
   "execution_count": 0,
   "metadata": {
    "application/vnd.databricks.v1+cell": {
     "cellMetadata": {
      "byteLimit": 2048000,
      "rowLimit": 10000
     },
     "inputWidgets": {},
     "nuid": "ecbd3bb3-9354-4686-8d57-1ac29a2a1cac",
     "showTitle": false,
     "title": ""
    }
   },
   "outputs": [],
   "source": [
    "\n",
    "class PythonREPLTool(BaseTool):\n",
    "    # ...\n",
    "\n",
    "    def _run(\n",
    "        self,\n",
    "        query: str,\n",
    "        run_manager: Optional[CallbackManagerForToolRun] = None,\n",
    "    ) -> Any:\n",
    "        \"\"\"Use the tool.\"\"\"\n",
    "        if self.sanitize_input:\n",
    "            query = sanitize_input(query)\n",
    "        result = self.python_repl.run(query)\n",
    "\n",
    "        # Check if the result is a matplotlib figure\n",
    "        if isinstance(result, plt.Figure):\n",
    "            # Save the figure to a file\n",
    "            result.savefig('output.png')\n",
    "\n",
    "        return result\n",
    "    \n",
    "\n",
    "python_tool = Tool.from_function(\n",
    "    name=\"python_tool\",\n",
    "    func=PythonREPL().run,\n",
    "    description=\"run python code to save charts for sql results in current working directory, do not open it\",\n",
    "    handle_tool_error = True,\n",
    "    verbose = False, \n",
    "    error_message = \"Error running python code\",\n",
    ")"
   ]
  }
 ],
 "metadata": {
  "application/vnd.databricks.v1+notebook": {
   "dashboards": [],
   "environmentMetadata": {
    "base_environment": "",
    "client": "1"
   },
   "language": "python",
   "notebookMetadata": {
    "pythonIndentUnit": 4
   },
   "notebookName": "python_tool",
   "widgets": {}
  }
 },
 "nbformat": 4,
 "nbformat_minor": 0
}
