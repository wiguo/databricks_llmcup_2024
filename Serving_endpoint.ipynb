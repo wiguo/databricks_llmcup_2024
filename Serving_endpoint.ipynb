{
 "cells": [
  {
   "cell_type": "code",
   "execution_count": 0,
   "metadata": {
    "application/vnd.databricks.v1+cell": {
     "cellMetadata": {
      "byteLimit": 2048000,
      "rowLimit": 10000
     },
     "inputWidgets": {},
     "nuid": "8842c07c-b29e-4c05-9183-3bf699d3da79",
     "showTitle": false,
     "title": ""
    }
   },
   "outputs": [
    {
     "output_type": "stream",
     "name": "stdout",
     "output_type": "stream",
     "text": [
      "\u001B[43mNote: you may need to restart the kernel using %restart_python or dbutils.library.restartPython() to use updated packages.\u001B[0m\n"
     ]
    }
   ],
   "source": [
    "%pip install -qU langchain langchain-community langchain-core sqlalchemy langchain_experimental matplotlib mlflow langgraph fsspec huggingface_hub youtube-search openai langchain-databricks databricks-sdk langchain_openai"
   ]
  },
  {
   "cell_type": "code",
   "execution_count": 0,
   "metadata": {
    "application/vnd.databricks.v1+cell": {
     "cellMetadata": {
      "byteLimit": 2048000,
      "rowLimit": 10000
     },
     "inputWidgets": {},
     "nuid": "2651b5fb-f887-47f6-adb1-74b73a724a8f",
     "showTitle": false,
     "title": ""
    }
   },
   "outputs": [],
   "source": [
    "dbutils.library.restartPython() "
   ]
  },
  {
   "cell_type": "code",
   "execution_count": 0,
   "metadata": {
    "application/vnd.databricks.v1+cell": {
     "cellMetadata": {},
     "inputWidgets": {},
     "nuid": "ae102092-e886-430b-8540-17f4eb277b45",
     "showTitle": false,
     "title": ""
    }
   },
   "outputs": [],
   "source": [
    "# This script initializes a deployment client, creates a new endpoint, and configures it to serve a specific model version.\n",
    "# It sets up the endpoint with traffic routing to direct 100% of the traffic to the specified model version and enables scaling to zero.\n",
    "\n",
    "import mlflow\n",
    "from mlflow.deployments import get_deploy_client\n",
    "\n",
    "mlflow.set_registry_uri(\"databricks-uc\")\n",
    "client = get_deploy_client(\"databricks\")\n",
    "\n",
    "endpointname = \"qaxxxx\"\n",
    "catalog = \"llmcup2024\"\n",
    "schema = \"default\"\n",
    "modelname = \"qax\"\n",
    "\n",
    "endpoint = client.create_endpoint(\n",
    "  name=f\"{endpointname}\",\n",
    "  config={\n",
    "    \"served_entities\": [\n",
    "        {\n",
    "            \"entity_name\": f\"{catalog}.{schema}.{modelname}\",\n",
    "            \"entity_version\": \"1\",\n",
    "            \"workload_size\": \"Small\",\n",
    "            \"scale_to_zero_enabled\": True\n",
    "        }\n",
    "    ],\n",
    "    \"traffic_config\": {\n",
    "        \"routes\": [\n",
    "            {\n",
    "                \"served_model_name\": f\"{modelname}-1\",\n",
    "                \"traffic_percentage\": 100\n",
    "            }\n",
    "        ]\n",
    "    }\n",
    "  }\n",
    ")"
   ]
  },
  {
   "cell_type": "code",
   "execution_count": 0,
   "metadata": {
    "application/vnd.databricks.v1+cell": {
     "cellMetadata": {
      "byteLimit": 2048000,
      "rowLimit": 10000
     },
     "inputWidgets": {},
     "nuid": "91ebefa8-5b95-447e-a355-800b35784c84",
     "showTitle": false,
     "title": ""
    }
   },
   "outputs": [
    {
     "output_type": "stream",
     "name": "stdout",
     "output_type": "stream",
     "text": [
      "['agentqax2', 'qaxtest', 'databricks-meta-llama-3-1-70b-instruct', 'databricks-meta-llama-3-1-405b-instruct', 'databricks-gte-large-en', 'databricks-dbrx-instruct', 'databricks-mixtral-8x7b-instruct', 'databricks-bge-large-en', 'databricks-llama-2-70b-chat']\n"
     ]
    }
   ],
   "source": [
    "# This script initializes a WorkspaceClient, lists all available serving endpoints, and prints their names.\n",
    "from databricks.sdk import WorkspaceClient\n",
    "\n",
    "w = WorkspaceClient()\n",
    "available_endpoints = [x.name for x in w.serving_endpoints.list()]\n",
    "display(available_endpoints)"
   ]
  },
  {
   "cell_type": "code",
   "execution_count": 0,
   "metadata": {
    "application/vnd.databricks.v1+cell": {
     "cellMetadata": {
      "byteLimit": 2048000,
      "rowLimit": 10000
     },
     "inputWidgets": {},
     "nuid": "bdc83089-1493-498f-a800-7ea7e35d7fc0",
     "showTitle": false,
     "title": ""
    }
   },
   "outputs": [],
   "source": [
    "# Import necessary modules from the databricks.sdk package\n",
    "from databricks.sdk import WorkspaceClient\n",
    "from databricks.sdk.service.serving import ChatMessage, ChatMessageRole\n",
    "\n",
    "# Define the name of the serving endpoint to be queried\n",
    "serving_endpoint_name = \"agentqax2\"\n",
    "\n",
    "# Prepare the prompt and the message to be sent to the serving endpoint\n",
    "prompt = \"Answer this question like a helpful assistant: \"\n",
    "messages = [{\"messages\": [{\"role\": \"user\", \"content\": prompt + \"provide feedbacks for Ali to improve greeting and closing skills\"}]}]\n",
    "\n",
    "# Query the serving endpoint with the prepared messages to get a response\n",
    "response = w.serving_endpoints.query(\n",
    "            name=serving_endpoint_name,\n",
    "            inputs=messages,\n",
    "        )"
   ]
  },
  {
   "cell_type": "code",
   "execution_count": 0,
   "metadata": {
    "application/vnd.databricks.v1+cell": {
     "cellMetadata": {
      "byteLimit": 2048000,
      "rowLimit": 10000
     },
     "inputWidgets": {},
     "nuid": "93e0fbb6-e24b-48fc-bd1d-cf851f88c2d8",
     "showTitle": false,
     "title": ""
    }
   },
   "outputs": [
    {
     "output_type": "stream",
     "name": "stdout",
     "output_type": "stream",
     "text": [
      "----------------input---------------\nAnswer this question like a helpful assistant: provide feedbacks for Ali to improve greeting and closing skills\n----------------output---------------\nHere is a rewritten version of the response in a more concise and formal tone:\n\n**Feedback and Training Plan for Ali**\n\n**Summary:**\nAli demonstrates strong product knowledge and effectively resolves customer issues. However, there is room for improvement in greeting and closing interactions.\n\n**Key Areas for Improvement:**\n\n1. **Greeting Skills:**\n\t* Establish a rapport with customers through personalized greetings and open-ended questions.\n\t* Practice friendly and engaging greetings.\n2. **Closing Skills:**\n\t* Develop a consistent closing script that includes thanking customers, summarizing the resolution, and providing clear next steps.\n\t* Emphasize ensuring customers feel valued and supported.\n\n**Training Plan:**\n\n1. Record and review greetings to identify areas for improvement.\n2. Role-play closing scenarios with a colleague or supervisor.\n3. Review recordings of interactions to identify patterns and areas for improvement.\n4. Seek feedback from colleagues, supervisors, or customers.\n5. Set specific goals for improving greeting and closing skills and track progress.\n\n**Recommendations:**\nBy focusing on these areas and practicing consistently, Ali can enhance his greeting and closing skills, leading to increased customer satisfaction and a more positive overall experience.\n"
     ]
    }
   ],
   "source": [
    "print(\"----------------input---------------\")\n",
    "print(messages[0]['messages'][0][\"content\"])\n",
    "print(\"----------------output---------------\")\n",
    "print(response.predictions[-1]['messages'][-1][\"content\"])"
   ]
  },
  {
   "cell_type": "markdown",
   "metadata": {
    "application/vnd.databricks.v1+cell": {
     "cellMetadata": {},
     "inputWidgets": {},
     "nuid": "c1c1c219-6145-445a-abff-b68f18859adb",
     "showTitle": false,
     "title": ""
    }
   },
   "source": [
    "### Mlflow run model log\n",
    "<img src ='./serving_endpoint.png'>"
   ]
  }
 ],
 "metadata": {
  "application/vnd.databricks.v1+notebook": {
   "dashboards": [],
   "environmentMetadata": {
    "base_environment": "",
    "client": "1"
   },
   "language": "python",
   "notebookMetadata": {
    "pythonIndentUnit": 4
   },
   "notebookName": "Serving_endpoint",
   "widgets": {}
  }
 },
 "nbformat": 4,
 "nbformat_minor": 0
}
