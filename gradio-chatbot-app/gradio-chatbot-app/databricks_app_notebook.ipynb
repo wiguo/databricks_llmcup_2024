{
 "cells": [
  {
   "cell_type": "markdown",
   "metadata": {
    "application/vnd.databricks.v1+cell": {
     "cellMetadata": {},
     "inputWidgets": {},
     "nuid": "6dd4a75c-5389-491b-959d-1754abcc3f85",
     "showTitle": false,
     "title": ""
    }
   },
   "source": [
    "### App using serving endpoint \n",
    "<img src ='./databricks_app.png'>"
   ]
  },
  {
   "cell_type": "markdown",
   "metadata": {
    "application/vnd.databricks.v1+cell": {
     "cellMetadata": {},
     "inputWidgets": {},
     "nuid": "f951ed0a-7718-41ea-80bc-d0c1037fa014",
     "showTitle": false,
     "title": ""
    }
   },
   "source": [
    "### Simpe Gradio Chatbot\n",
    "<img src ='./gradio_ui.png'>"
   ]
  }
 ],
 "metadata": {
  "application/vnd.databricks.v1+notebook": {
   "dashboards": [],
   "environmentMetadata": {
    "base_environment": "",
    "client": "1"
   },
   "language": "python",
   "notebookMetadata": {
    "pythonIndentUnit": 4
   },
   "notebookName": "databricks_app_notebook",
   "widgets": {}
  }
 },
 "nbformat": 4,
 "nbformat_minor": 0
}
